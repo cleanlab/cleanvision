{
 "cells": [
  {
   "cell_type": "code",
   "execution_count": 2,
   "metadata": {},
   "outputs": [],
   "source": [
    "from image_data_quality.image_dataset import Imagelab"
   ]
  },
  {
   "cell_type": "code",
   "execution_count": 3,
   "metadata": {},
   "outputs": [],
   "source": [
    "dataset_path = \"../image_files/\""
   ]
  },
  {
   "cell_type": "code",
   "execution_count": 4,
   "metadata": {},
   "outputs": [],
   "source": [
    "imagelab = Imagelab(dataset_path, thumbnail_size=(128, 128))"
   ]
  },
  {
   "cell_type": "code",
   "execution_count": 5,
   "metadata": {},
   "outputs": [
    {
     "name": "stdout",
     "output_type": "stream",
     "text": [
      "Checking for AspectRatio, DarkImages, LightImages, Entropy, NearDuplicates, Duplicated, Grayscale, Blurred\n"
     ]
    },
    {
     "name": "stderr",
     "output_type": "stream",
     "text": [
      "100%|█████████████████████████████████████████████████████████████████████████████████████████████████████████████████████████████████████████████████████████████████████| 517/517 [00:05<00:00, 93.33it/s]"
     ]
    },
    {
     "name": "stdout",
     "output_type": "stream",
     "text": [
      "Color spaces in the  dataset\n",
      "========================\n",
      "{'L': 12, 'RGB': 505}\n",
      "\n",
      "Issue Summary\n",
      "========================\n",
      "                Issues  Percent of Data  Issue Intensity\n",
      "DarkImages          27         0.052224         0.415827\n",
      "LightImages          4         0.007737         0.333447\n",
      "Blurred             12         0.023211         0.110782\n",
      "Entropy              1         0.001934         0.095126\n",
      "Grayscale           12         0.023211         0.017391\n",
      "NearDuplicates       9         0.017408         0.013043\n",
      "Duplicated           7         0.013540         0.010145\n",
      "AspectRatio          3         0.005803         0.004238\n",
      "\n"
     ]
    },
    {
     "name": "stderr",
     "output_type": "stream",
     "text": [
      "\n"
     ]
    }
   ],
   "source": [
    "scores = imagelab.evaluate()\n",
    "imagelab.aggregate()\n",
    "summary, results_df = imagelab.summary()"
   ]
  },
  {
   "cell_type": "code",
   "execution_count": 6,
   "metadata": {},
   "outputs": [],
   "source": [
    "# summary"
   ]
  },
  {
   "cell_type": "code",
   "execution_count": null,
   "metadata": {},
   "outputs": [],
   "source": []
  }
 ],
 "metadata": {
  "kernelspec": {
   "display_name": "venv",
   "language": "python",
   "name": "venv"
  },
  "language_info": {
   "codemirror_mode": {
    "name": "ipython",
    "version": 3
   },
   "file_extension": ".py",
   "mimetype": "text/x-python",
   "name": "python",
   "nbconvert_exporter": "python",
   "pygments_lexer": "ipython3",
   "version": "3.11.0"
  }
 },
 "nbformat": 4,
 "nbformat_minor": 4
}

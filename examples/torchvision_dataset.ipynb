{
 "cells": [
  {
   "cell_type": "markdown",
   "id": "8fa4a083-1a56-419f-9e3f-fa93acd45405",
   "metadata": {},
   "source": [
    "# Run CleanVision on Torchvision dataset"
   ]
  },
  {
   "cell_type": "markdown",
   "id": "6c52419e-f8d7-4f73-8a5d-c6d5cf90fa77",
   "metadata": {},
   "source": [
    "[![Open In Colab](https://colab.research.google.com/assets/colab-badge.svg)](https://colab.research.google.com/github/cleanlab/cleanvision/blob/main/examples/torchvision_dataset.ipynb) "
   ]
  },
  {
   "cell_type": "code",
   "execution_count": null,
   "id": "3381332c-2220-48ea-9b8a-8f974c4d5460",
   "metadata": {},
   "outputs": [],
   "source": [
    "!pip install -U pip\n",
    "!pip install cleanvision[pytorch]"
   ]
  },
  {
   "cell_type": "markdown",
   "id": "dfcd1327-924c-47ae-834d-3b9d922800f4",
   "metadata": {
    "tags": []
   },
   "source": [
    "**After you install these packages, you may need to restart your notebook runtime before running the rest of this notebook.**"
   ]
  },
  {
   "cell_type": "code",
   "execution_count": null,
   "id": "50a8cd5a-899e-4a58-84f7-fb1ddf4bfcf2",
   "metadata": {},
   "outputs": [],
   "source": [
    "from torchvision.datasets import CIFAR10\n",
    "from torch.utils.data import ConcatDataset\n",
    "from cleanvision.imagelab import Imagelab"
   ]
  },
  {
   "cell_type": "markdown",
   "id": "7dcf23f9-c031-4bdf-b63c-5eb02003321b",
   "metadata": {},
   "source": [
    "### Download dataset and concatenate all splits\n",
    "\n",
    "Since we're interested in generally understanding what issues plague our data, we merge the training and test sets into one larger dataset before running CleanVision. You could alternatively just run the package on these two sets of data separately to obtain two different reports.\n",
    "\n",
    "[CIFAR10](https://www.cs.toronto.edu/~kriz/cifar.html) is classification dataset, but CleanVision can be used to audit images from any type of dataset (including supervised or unsupervised learning).\n",
    "\n",
    "Load all splits of the CIFAR10 dataset"
   ]
  },
  {
   "cell_type": "code",
   "execution_count": null,
   "id": "79ae476e-b1dd-40d3-925e-d570c5237110",
   "metadata": {},
   "outputs": [],
   "source": [
    "train_set = CIFAR10(root=\"./\", download=True)\n",
    "test_set = CIFAR10(root=\"./\", train=False, download=True)"
   ]
  },
  {
   "cell_type": "markdown",
   "id": "42add096-2ad2-4e0d-8f41-2ed1f8558fbf",
   "metadata": {
    "tags": []
   },
   "source": [
    "Concatenate train and test splits"
   ]
  },
  {
   "cell_type": "code",
   "execution_count": null,
   "id": "2801693b-48a3-4797-8d41-1956b9259076",
   "metadata": {},
   "outputs": [],
   "source": [
    "dataset = ConcatDataset([train_set, test_set])"
   ]
  },
  {
   "cell_type": "markdown",
   "id": "287a2e90-9f9b-4e6a-adde-a454430889d3",
   "metadata": {
    "tags": []
   },
   "source": [
    "A sample from the dataset"
   ]
  },
  {
   "cell_type": "code",
   "execution_count": null,
   "id": "e159ebe1-b5ca-46ca-abf3-9a5e77db0830",
   "metadata": {},
   "outputs": [],
   "source": [
    "dataset[0]"
   ]
  },
  {
   "cell_type": "markdown",
   "id": "3a86c8ad-884b-425c-a538-569fa5b8e540",
   "metadata": {},
   "source": [
    "Let's look at the first image in this dataset"
   ]
  },
  {
   "cell_type": "code",
   "execution_count": null,
   "id": "3a8ee57f-9542-4458-8eb4-7ebc96ed8cc0",
   "metadata": {},
   "outputs": [],
   "source": [
    "dataset[0][0]"
   ]
  },
  {
   "cell_type": "markdown",
   "id": "f5f79ba0-3ef0-4ba9-8d85-726ee534bfc8",
   "metadata": {},
   "source": [
    "### Run CleanVision"
   ]
  },
  {
   "cell_type": "code",
   "execution_count": null,
   "id": "92c32767-ddd3-4881-853b-c0bee34cf94e",
   "metadata": {},
   "outputs": [],
   "source": [
    "imagelab = Imagelab(torchvision_dataset=dataset)"
   ]
  },
  {
   "cell_type": "markdown",
   "id": "e0fe56ff-35d7-49d2-a99f-f867d1cfe376",
   "metadata": {},
   "source": [
    "We set `n_jobs = 1` as CleanVision parallelization may interact with torch dataloaders in unexpected ways."
   ]
  },
  {
   "cell_type": "code",
   "execution_count": null,
   "id": "71df74ca-63ee-48f2-bdd0-c335f17c96f8",
   "metadata": {},
   "outputs": [],
   "source": [
    "imagelab.find_issues(n_jobs=1)"
   ]
  },
  {
   "cell_type": "markdown",
   "id": "3e2c1bc7-3042-4e8a-91f9-2a7840e03255",
   "metadata": {
    "tags": []
   },
   "source": [
    "Get a report of all the issues found"
   ]
  },
  {
   "cell_type": "code",
   "execution_count": null,
   "id": "779adbac-7dde-463a-b6d2-4afc872f31b2",
   "metadata": {},
   "outputs": [],
   "source": [
    "imagelab.report()"
   ]
  },
  {
   "cell_type": "markdown",
   "id": "f64b1e8b-97f2-4ae3-913d-699541fa9ab6",
   "metadata": {},
   "source": [
    "View more information about each image, such as what types of issues it exhibits and its quality score with respect to each type of issue."
   ]
  },
  {
   "cell_type": "code",
   "execution_count": null,
   "id": "1a7bce39-a072-4284-b7e6-2b12c55949e8",
   "metadata": {},
   "outputs": [],
   "source": [
    "imagelab.issues"
   ]
  },
  {
   "cell_type": "markdown",
   "id": "a9d4c1eb-bbf7-471c-b057-6161c8ac45ae",
   "metadata": {},
   "source": [
    "Get indices of all **dark** images in the dataset sorted by their dark score."
   ]
  },
  {
   "cell_type": "code",
   "execution_count": null,
   "id": "c54d1234-c076-4e07-bc4a-e8610f0d27bf",
   "metadata": {},
   "outputs": [],
   "source": [
    "indices = imagelab.issues.query('is_dark_issue').sort_values(by='dark_score').index.tolist()"
   ]
  },
  {
   "cell_type": "markdown",
   "id": "d7f241fc-0674-49af-ac59-c2cde1a79b3f",
   "metadata": {},
   "source": [
    "View the 5th darkest image in the dataset"
   ]
  },
  {
   "cell_type": "code",
   "execution_count": null,
   "id": "345a9996-850b-492e-ba45-afde3c1ca64e",
   "metadata": {},
   "outputs": [],
   "source": [
    "dataset[indices[5]][0]"
   ]
  },
  {
   "cell_type": "markdown",
   "id": "9efed1a8-3a2d-4f2b-9470-f8196a3d5791",
   "metadata": {},
   "source": [
    "View global information about each issue, such as how many images in the dataset suffer from this issue."
   ]
  },
  {
   "cell_type": "code",
   "execution_count": null,
   "id": "9f47f3b1-41d2-41cb-8816-25ae16ce2b29",
   "metadata": {},
   "outputs": [],
   "source": [
    "imagelab.issue_summary"
   ]
  },
  {
   "cell_type": "markdown",
   "id": "24c4ef0e-fb94-45c6-a76e-c74825c1b214",
   "metadata": {},
   "source": [
    "**For more detailed guide on how to use CleanVision, check the [tutorial notebook](https://github.com/cleanlab/cleanvision/blob/main/examples/tutorial.ipynb).**"
   ]
  }
 ],
 "metadata": {
  "language_info": {
   "name": "python"
  }
 },
 "nbformat": 4,
 "nbformat_minor": 5
}

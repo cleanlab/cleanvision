{
 "cells": [
  {
   "cell_type": "markdown",
   "id": "8fa4a083-1a56-419f-9e3f-fa93acd45405",
   "metadata": {},
   "source": [
    "# Run CleanVision on Torchvision dataset"
   ]
  },
  {
   "cell_type": "markdown",
   "id": "6c52419e-f8d7-4f73-8a5d-c6d5cf90fa77",
   "metadata": {},
   "source": [
    "[![Open In Colab](https://colab.research.google.com/assets/colab-badge.svg)](https://colab.research.google.com/github/cleanlab/cleanvision/blob/main/examples/torchvision_dataset.ipynb) "
   ]
  },
  {
   "cell_type": "code",
   "execution_count": null,
   "id": "2c0632a9-0820-4143-aaba-3e64e8a033f2",
   "metadata": {},
   "outputs": [],
   "source": [
    "!pip install -U pip\n",
    "!pip install cleanvision[pytorch]"
   ]
  },
  {
   "cell_type": "markdown",
   "id": "dfcd1327-924c-47ae-834d-3b9d922800f4",
   "metadata": {
    "tags": []
   },
   "source": [
    "**After you install these packages, you may need to restart your notebook runtime before running the rest of this notebook.**"
   ]
  },
  {
   "cell_type": "code",
   "execution_count": null,
   "id": "50a8cd5a-899e-4a58-84f7-fb1ddf4bfcf2",
   "metadata": {},
   "outputs": [],
   "source": [
    "from torchvision.datasets import CIFAR10\n",
    "from torch.utils.data import ConcatDataset\n",
    "from cleanvision.imagelab import Imagelab"
   ]
  },
  {
   "cell_type": "markdown",
   "id": "7dcf23f9-c031-4bdf-b63c-5eb02003321b",
   "metadata": {},
   "source": [
    "### Download dataset and concatenate all splits"
   ]
  },
  {
   "cell_type": "code",
   "execution_count": null,
   "id": "79ae476e-b1dd-40d3-925e-d570c5237110",
   "metadata": {},
   "outputs": [],
   "source": [
    "train_set = CIFAR10(root=\"./\", download=True)\n",
    "test_set = CIFAR10(root=\"./\", train=False, download=True)"
   ]
  },
  {
   "cell_type": "code",
   "execution_count": null,
   "id": "2801693b-48a3-4797-8d41-1956b9259076",
   "metadata": {},
   "outputs": [],
   "source": [
    "dataset = ConcatDataset([train_set, test_set])"
   ]
  },
  {
   "cell_type": "code",
   "execution_count": null,
   "id": "3a8ee57f-9542-4458-8eb4-7ebc96ed8cc0",
   "metadata": {},
   "outputs": [],
   "source": [
    "dataset[0]"
   ]
  },
  {
   "cell_type": "markdown",
   "id": "f5f79ba0-3ef0-4ba9-8d85-726ee534bfc8",
   "metadata": {},
   "source": [
    "### Run CleanVision"
   ]
  },
  {
   "cell_type": "code",
   "execution_count": null,
   "id": "4ec95500-53f7-4e16-beed-b1795bcd3da7",
   "metadata": {},
   "outputs": [],
   "source": [
    "imagelab = Imagelab(torchvision_dataset=dataset)\n",
    "imagelab.find_issues()"
   ]
  },
  {
   "cell_type": "markdown",
   "id": "3e2c1bc7-3042-4e8a-91f9-2a7840e03255",
   "metadata": {
    "tags": []
   },
   "source": [
    "Get a report of all the issues found"
   ]
  },
  {
   "cell_type": "code",
   "execution_count": null,
   "id": "779adbac-7dde-463a-b6d2-4afc872f31b2",
   "metadata": {},
   "outputs": [],
   "source": [
    "imagelab.report()"
   ]
  },
  {
   "cell_type": "markdown",
   "id": "f64b1e8b-97f2-4ae3-913d-699541fa9ab6",
   "metadata": {},
   "source": [
    "View more information about each image, such as what types of issues it exhibits and its quality score with respect to each type of issue."
   ]
  },
  {
   "cell_type": "code",
   "execution_count": null,
   "id": "1a7bce39-a072-4284-b7e6-2b12c55949e8",
   "metadata": {},
   "outputs": [],
   "source": [
    "imagelab.issues"
   ]
  },
  {
   "cell_type": "markdown",
   "id": "ff9c4121-97d3-435e-a488-f837a28a3d62",
   "metadata": {
    "tags": []
   },
   "source": [
    "View global information about each issue, such as how many images in the dataset suffer from this issue."
   ]
  },
  {
   "cell_type": "code",
   "execution_count": null,
   "id": "9f47f3b1-41d2-41cb-8816-25ae16ce2b29",
   "metadata": {},
   "outputs": [],
   "source": [
    "imagelab.issue_summary"
   ]
  },
  {
   "cell_type": "markdown",
   "id": "24c4ef0e-fb94-45c6-a76e-c74825c1b214",
   "metadata": {},
   "source": [
    "**For more detailed guide on how to use CleanVision, check the [tutorial notebook](https://github.com/cleanlab/cleanvision/blob/main/examples/tutorial.ipynb).**"
   ]
  }
 ],
 "metadata": {
  "language_info": {
   "name": "python"
  }
 },
 "nbformat": 4,
 "nbformat_minor": 5
}

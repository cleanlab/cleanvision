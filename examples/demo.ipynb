{
 "cells": [
  {
   "cell_type": "markdown",
   "metadata": {},
   "source": [
    "# Getting Started"
   ]
  },
  {
   "cell_type": "markdown",
   "metadata": {},
   "source": [
    "[![Open In Colab](https://colab.research.google.com/assets/colab-badge.svg)](https://colab.research.google.com/github/cleanlab/cleanvision/blob/main/examples/demo.ipynb) "
   ]
  },
  {
   "cell_type": "code",
   "execution_count": null,
   "metadata": {},
   "outputs": [],
   "source": [
    "!pip install -U pip\n",
    "!pip install git+https://github.com/cleanlab/cleanvision.git"
   ]
  },
  {
   "cell_type": "markdown",
   "metadata": {},
   "source": [
    "We plan to upload it on pypi soon!"
   ]
  },
  {
   "cell_type": "markdown",
   "metadata": {},
   "source": [
    "## What is CleanVision?\n",
    "**CleanVision** is built to automatically detects various issues in image datasets, such as images that are: (near) duplicates, blurry, over/under-exposed, etc. This data-centric AI package is designed as a quick first step for any computer vision project to find problems in your dataset, which you may want to address before applying machine learning.\n",
    "\n",
    "`cleanvision` provides a class **Imagelab** that you can use to find issues in your dataset, get a detailed summary of the issues found and also visualize them. It is a clean, effective and easy to understand interface that can be used for detailed investigation of issues in your dataset.\n",
    "\n",
    "The easiest way to use Imagelab class is to run it for a set of default predefined issue types. Here is the list of all issue types that cleanvision can detect.\n",
    "\n",
    "|     | Issue Type      | Description                                                                                  | Issue Key        |\n",
    "|-----|------------------|----------------------------------------------------------------------------------------------|------------------|\n",
    "| 1   | Light            | Images that are too bright/washed out in the dataset                                         | light            |\n",
    "| 2   | Dark             | Images that are irregularly dark                                                             | dark             |\n",
    "| 3   | Odd Aspect Ratio | Images with an unusual aspect ratio (i.e. overly skinny/wide)                                                       | odd_aspect_ratio |\n",
    "| 4   | Exact Duplicates | Images that are exact duplicates of each other                          | exact_duplicates |\n",
    "| 5   | Near Duplicates  | Images that are almost visually identical to each other (e.g. same image with different filters)                                 | near_duplicates  |\n",
    "| 6   | Blurry           | Images that are blurry or out of focus                                                  | blurry           |\n",
    "| 7   | Grayscale        | Images that are grayscale (lacking color)                                                            | grayscale        |\n",
    "| 8   | Low Information  | Images that lack much information (e.g. a completely black image with a few white dots) | low_information  |\n",
    "\n",
    "The Issue Key column specifies the name for each type of issue in the CleanVision code. In the examples, it is shown how one can use these keys to detect particular issue types and specify custom hyperparameters."
   ]
  },
  {
   "cell_type": "markdown",
   "metadata": {},
   "source": [
    "This notebook uses an example dataset, that you can download from here."
   ]
  },
  {
   "cell_type": "code",
   "execution_count": null,
   "metadata": {},
   "outputs": [],
   "source": [
    "!wget - nc 'https://cleanlab-public.s3.amazonaws.com/CleanVision/image_files.zip'"
   ]
  },
  {
   "cell_type": "code",
   "execution_count": null,
   "metadata": {},
   "outputs": [],
   "source": [
    "!unzip image_files.zip"
   ]
  },
  {
   "cell_type": "markdown",
   "metadata": {},
   "source": [
    "## Examples"
   ]
  },
  {
   "cell_type": "markdown",
   "metadata": {},
   "source": [
    "### Using Imagelab to detect default issue types"
   ]
  },
  {
   "cell_type": "code",
   "execution_count": null,
   "metadata": {
    "tags": []
   },
   "outputs": [],
   "source": [
    "from cleanvision.imagelab import Imagelab\n",
    "\n",
    "# Path to your dataset, you can specify your own dataset path\n",
    "dataset_path = \"./image_files/\"\n",
    "\n",
    "# Initialize imagelab with your dataset\n",
    "imagelab = Imagelab(data_path=dataset_path)\n",
    "\n",
    "# Visualize a few images from the dataset\n",
    "imagelab.visualize(num_images=8)\n",
    "\n",
    "# Find issues\n",
    "imagelab.find_issues()"
   ]
  },
  {
   "cell_type": "markdown",
   "metadata": {},
   "source": [
    "To have a look at the issues found in the dataset dataset use `imagelab.report()` as shown below. It reports the top issues found in the dataset, `num_images` found in the dataset for each issue type,  as well as some examples found."
   ]
  },
  {
   "cell_type": "code",
   "execution_count": null,
   "metadata": {
    "tags": []
   },
   "outputs": [],
   "source": [
    "imagelab.report()"
   ]
  },
  {
   "cell_type": "markdown",
   "metadata": {},
   "source": [
    "You can dive deep into the analysis by further looking at following imagelab attributes\n",
    "- `imagelab.issue_summary`\n",
    "- `imagelab.issues`\n",
    "- `imagelab.info`"
   ]
  },
  {
   "cell_type": "markdown",
   "metadata": {},
   "source": [
    "#### imagelab.issue_summary\n",
    "Dataframe that contains summary of all issue types detected\n",
    "\n",
    "In each row:\\\n",
    "`issue_type` - name of the issue\\\n",
    "`num_images` - number of images of that issue type found in the dataset"
   ]
  },
  {
   "cell_type": "code",
   "execution_count": null,
   "metadata": {
    "tags": []
   },
   "outputs": [],
   "source": [
    "imagelab.issue_summary"
   ]
  },
  {
   "cell_type": "markdown",
   "metadata": {},
   "source": [
    "#### imagelab.issues\n",
    "\n",
    "This is a dataframe that list scores of all issue type for all images in the dataset. It also has a bool column showing whether that particular image is an issue or not.\n",
    "For example `dark_score` is the score for issue type dark. Here all scores lie between 0 and 1, where lower values indicate higher probability that there is an issue in the image. A very obvious use case for`imagelab.issues` is to filter out all images with say `odd_aspect_ratio` issue type"
   ]
  },
  {
   "cell_type": "code",
   "execution_count": null,
   "metadata": {
    "tags": []
   },
   "outputs": [],
   "source": [
    "# Get all images with blurry issue type\n",
    "blurry_images = imagelab.issues[imagelab.issues[\"is_blurry_issue\"] == True].index.tolist()\n",
    "blurry_images"
   ]
  },
  {
   "cell_type": "code",
   "execution_count": null,
   "metadata": {
    "tags": []
   },
   "outputs": [],
   "source": [
    "imagelab.visualize(image_files=blurry_images[:4])  # visualize the given image files"
   ]
  },
  {
   "cell_type": "code",
   "execution_count": null,
   "metadata": {},
   "outputs": [],
   "source": [
    "imagelab.visualize(issue_types=['blurry']) # visualize a specific issue types, in order of ascending scores"
   ]
  },
  {
   "cell_type": "markdown",
   "metadata": {},
   "source": [
    "#### imagelab.info\n",
    "\n",
    "This is a nested dictionary that contains statistics on images or other useful information that was collected while checking for issues in the dataset."
   ]
  },
  {
   "cell_type": "code",
   "execution_count": null,
   "metadata": {
    "tags": []
   },
   "outputs": [],
   "source": [
    "# Possible keys: statistics, issue names\n",
    "print(list(imagelab.info.keys()), \"\\n\")"
   ]
  },
  {
   "cell_type": "code",
   "execution_count": null,
   "metadata": {
    "tags": []
   },
   "outputs": [],
   "source": [
    "# statistics collected, you can further look into these by checking their values\n",
    "print(list(imagelab.info[\"statistics\"].keys()))\n",
    "imagelab.info['statistics']['brightness']"
   ]
  },
  {
   "cell_type": "markdown",
   "metadata": {},
   "source": [
    "#### Duplicate sets\n",
    "`imagelab.info` can also be used to see which images are near or exact  duplicates of each other. "
   ]
  },
  {
   "cell_type": "markdown",
   "metadata": {},
   "source": [
    "`issue.summary` shows the number of exact duplicate images but does not show how many such sets of images exist in the dataset. To see the number of exact duplicate sets, you can use `imagelab.info`"
   ]
  },
  {
   "cell_type": "code",
   "execution_count": null,
   "metadata": {},
   "outputs": [],
   "source": [
    "imagelab.info['exact_duplicates']['num_sets']"
   ]
  },
  {
   "cell_type": "markdown",
   "metadata": {},
   "source": [
    "You can also get the sets of image files for each duplicated set using `imagelab.info`"
   ]
  },
  {
   "cell_type": "code",
   "execution_count": null,
   "metadata": {},
   "outputs": [],
   "source": [
    "# This is a list of list, where each nested list is a set of exact duplicate images.\n",
    "# Similarly, you can also retrieve near duplicate sets.\n",
    "imagelab.info['exact_duplicates']['sets']"
   ]
  },
  {
   "cell_type": "markdown",
   "metadata": {},
   "source": [
    "### Using Imagelab to detect specific issues"
   ]
  },
  {
   "cell_type": "markdown",
   "metadata": {},
   "source": [
    "It might be the case that only a few issue types are relevant for your dataset and you don't want to run it through all checks to save time. You can do so by specifying `issue_types` as an argument.\n",
    "\n",
    "`issue_types` is a dict, where keys are the issue types that you want to detect and values are dict which contains hyperparameters. For now we are using default hyperparameters. You can find keys in the above table that lists all issue types supported by cleanvision. "
   ]
  },
  {
   "cell_type": "code",
   "execution_count": null,
   "metadata": {
    "tags": []
   },
   "outputs": [],
   "source": [
    "# Initialize imagelab with your dataset\n",
    "imagelab = Imagelab(data_path=dataset_path)\n",
    "\n",
    "# specify issue types to detect\n",
    "issue_types = {\"exact_duplicates\": {}}\n",
    "\n",
    "# Find issues\n",
    "imagelab.find_issues(issue_types)\n",
    "\n",
    "# Show a report of the issues found\n",
    "imagelab.report()"
   ]
  },
  {
   "cell_type": "markdown",
   "metadata": {},
   "source": [
    "### Check for additional types of issues using existing Imagelab instance"
   ]
  },
  {
   "cell_type": "markdown",
   "metadata": {},
   "source": [
    "Suppose you also want to check for near duplicates now after detecting exact duplicates in the dataset. You can use the **same** imagelab instance to run a check for near duplicates"
   ]
  },
  {
   "cell_type": "code",
   "execution_count": null,
   "metadata": {
    "tags": []
   },
   "outputs": [],
   "source": [
    "issue_types = {\"near_duplicates\": {}}\n",
    "\n",
    "imagelab.find_issues(issue_types)\n",
    "\n",
    "imagelab.report()"
   ]
  },
  {
   "cell_type": "markdown",
   "metadata": {},
   "source": [
    "### Save and load Imagelab"
   ]
  },
  {
   "cell_type": "markdown",
   "metadata": {},
   "source": [
    "Imagelab also has a save and load functionality that you can use to save the results and instance and load them at a later point in time to see results or run more checks"
   ]
  },
  {
   "cell_type": "code",
   "execution_count": null,
   "metadata": {
    "tags": []
   },
   "outputs": [],
   "source": [
    "# For saving, specify force=True to overwrite files\n",
    "save_path = \"./results\"\n",
    "imagelab.save(save_path)"
   ]
  },
  {
   "cell_type": "code",
   "execution_count": null,
   "metadata": {
    "tags": []
   },
   "outputs": [],
   "source": [
    "# For loading\n",
    "# specify data_path to help Imagelab check for any inconsistencies between dataset paths in the previous and current run\n",
    "imagelab = Imagelab.load(save_path, dataset_path)"
   ]
  },
  {
   "cell_type": "markdown",
   "metadata": {},
   "source": [
    "### Check for an issue with a different threshold"
   ]
  },
  {
   "cell_type": "markdown",
   "metadata": {},
   "source": [
    "You can use the loaded imagelab instance to check for an issue type with a custom hyperparameter. Here is a table of hyperparameters that each issue type supports and their permissible values. \n",
    "\n",
    "`threshold`- All images with scores below this threshold will be flagged as an issue\n",
    "\n",
    "`hash_size` - This controls how much detail about an image we want to keep for getting perceptual hash. Higher sizes imply more detail.\n",
    "\n",
    "`hash_type` - Type of perceptual hash to use. Currently `whash` and `phash` are the supported hash types. Check [here](https://github.com/JohannesBuchner/imagehash) for more details on these hash types.\n",
    "\n",
    "|   | Issue Key        | Hyperparameters                                   |\n",
    "|---|------------------|---------------------------------------------------|\n",
    "| 1 | light            | threshold (between 0 and 1)                       |\n",
    "| 2 | dark             | threshold (between 0 and 1)                       |\n",
    "| 3 | odd_aspect_ratio | threshold (between 0 and 1)                       |\n",
    "| 4 | exact_duplicates | N/A                                               |\n",
    "| 5 | near_duplicates  | hash_size (power of 2), hash_types (whash, phash) |\n",
    "| 6 | blurry           | threshold (between 0 and 1)                       |\n",
    "| 7 | grayscale        | threshold (between 0 and 1)                       |\n",
    "| 8 | low_information  | threshold (between 0 and 1)                       |"
   ]
  },
  {
   "cell_type": "code",
   "execution_count": null,
   "metadata": {
    "tags": []
   },
   "outputs": [],
   "source": [
    "issue_types = {\"dark\": {\"threshold\": 0.2}}\n",
    "imagelab.find_issues(issue_types)\n",
    "\n",
    "imagelab.report()"
   ]
  },
  {
   "cell_type": "markdown",
   "metadata": {},
   "source": [
    "Note the number of images with dark issue has reduced from the previous run"
   ]
  },
  {
   "cell_type": "markdown",
   "metadata": {},
   "source": [
    "### Run imagelab for default issue types, but override hyperparameters for one or more issues"
   ]
  },
  {
   "cell_type": "code",
   "execution_count": null,
   "metadata": {
    "tags": []
   },
   "outputs": [],
   "source": [
    "imagelab = Imagelab(data_path=dataset_path)\n",
    "\n",
    "# Check for all default issue types\n",
    "imagelab.find_issues()\n",
    "\n",
    "# Specify an issue with custom hyperparameters\n",
    "issue_types = {\"odd_aspect_ratio\": {\"threshold\": 0.2}}\n",
    "\n",
    "# Run find issues again with specified issue types\n",
    "imagelab.find_issues(issue_types)\n",
    "\n",
    "\n",
    "# Pass list of issue_types to imagelab.report() to report only those issue_types\n",
    "imagelab.report([\"odd_aspect_ratio\", \"low_information\"])"
   ]
  },
  {
   "cell_type": "markdown",
   "metadata": {},
   "source": [
    "### Customize report"
   ]
  },
  {
   "cell_type": "markdown",
   "metadata": {},
   "source": [
    "Report can also be customized in various ways to help with the analysis. For example, you can change the verbosity to return more or less information on issues found, default is `verbosity=1`"
   ]
  },
  {
   "cell_type": "code",
   "execution_count": null,
   "metadata": {
    "tags": []
   },
   "outputs": [],
   "source": [
    "# Change verbosity\n",
    "imagelab.report(verbosity=2)"
   ]
  },
  {
   "cell_type": "markdown",
   "metadata": {},
   "source": [
    "You may want to exclude issues from your report which are prevalent in say more than 50% of the dataset and are not real issues but just how the dataset is, for example dark images in an astronomy dataset may not be an issue. You can use the `max_prevalence` parameter in report to exclude such issues. In this example all issues present in more than 3% of the dataset are excluded."
   ]
  },
  {
   "cell_type": "code",
   "execution_count": null,
   "metadata": {
    "tags": []
   },
   "outputs": [],
   "source": [
    "imagelab.report(max_prevalence=0.03)"
   ]
  },
  {
   "cell_type": "markdown",
   "metadata": {},
   "source": [
    "### Visualize specific issues"
   ]
  },
  {
   "cell_type": "markdown",
   "metadata": {},
   "source": [
    "Imagelab provides `imagelab.visualize` that you can use to see examples of specific issues in your dataset\n",
    "\n",
    "`num_images` and `cell_size` are options arguments, that you can use to control number of examples of each issue type and size of image in the image grid respectively."
   ]
  },
  {
   "cell_type": "code",
   "execution_count": null,
   "metadata": {
    "tags": []
   },
   "outputs": [],
   "source": [
    "issue_types = [\"grayscale\"]\n",
    "imagelab.visualize(issue_types=issue_types, num_images=8, cell_size=(3, 3))"
   ]
  },
  {
   "cell_type": "markdown",
   "metadata": {},
   "source": [
    "## Advanced: Create your own issue type"
   ]
  },
  {
   "cell_type": "markdown",
   "metadata": {},
   "source": [
    "You can also create a custom issue type by extending a base class of `Imagelab` called `IssueManager`. CleanVision can then detect your custom issue along with our pre-defined issues in any image dataset! Here's an example of a custom issue manager, which can also be found in the `examples/` folder of the source code."
   ]
  },
  {
   "cell_type": "code",
   "execution_count": null,
   "metadata": {},
   "outputs": [],
   "source": [
    "from typing import Any, Dict, List, Optional\n",
    "\n",
    "import numpy as np\n",
    "import pandas as pd\n",
    "from PIL import Image\n",
    "from tqdm import tqdm\n",
    "\n",
    "from cleanvision.issue_managers import register_issue_manager\n",
    "from cleanvision.utils.base_issue_manager import IssueManager\n",
    "from cleanvision.utils.utils import get_is_issue_colname, get_score_colname\n",
    "\n",
    "ISSUE_NAME = \"custom\"\n",
    "\n",
    "\n",
    "@register_issue_manager(ISSUE_NAME)\n",
    "class CustomIssueManager(IssueManager):\n",
    "    \"\"\"\n",
    "    Example class showing how you can self-define a custom type of issue that\n",
    "    CleanVision can simultaneously check your data for alongside its built-in issue types.\n",
    "    \"\"\"\n",
    "\n",
    "    issue_name: str = ISSUE_NAME\n",
    "    visualization: str = \"individual_images\"\n",
    "\n",
    "    def __init__(self) -> None:\n",
    "        super().__init__()\n",
    "        self.params = self.get_default_params()\n",
    "\n",
    "    def get_default_params(self) -> Dict[str, Any]:\n",
    "        return {\"threshold\": 0.4}\n",
    "\n",
    "    def update_params(self, params: Dict[str, Any]) -> None:\n",
    "        self.params = self.get_default_params()\n",
    "        non_none_params = {k: v for k, v in params.items() if v is not None}\n",
    "        self.params = {**self.params, **non_none_params}\n",
    "\n",
    "    @staticmethod\n",
    "    def calculate_mean_pixel_value(image: Image.Image) -> float:\n",
    "        gray_image = image.convert(\"L\")\n",
    "        return np.mean(np.array(gray_image))\n",
    "\n",
    "    def get_scores(self, raw_scores: \"np.ndarray[Any, Any]\") -> \"np.ndarray[Any, Any]\":\n",
    "        scores = np.array(raw_scores)\n",
    "        return scores / 255.0\n",
    "\n",
    "    def mark_issue(\n",
    "        self, scores: \"np.ndarray[Any, Any]\", threshold: float\n",
    "    ) -> \"np.ndarray[Any, Any]\":\n",
    "        return scores < threshold\n",
    "\n",
    "    def update_summary(self, summary_dict: Dict[str, Any]) -> None:\n",
    "        self.summary = pd.DataFrame({\"issue_type\": [self.issue_name]})\n",
    "        for column_name, value in summary_dict.items():\n",
    "            self.summary[column_name] = [value]\n",
    "\n",
    "    def find_issues(\n",
    "        self,\n",
    "        *,\n",
    "        params: Optional[Dict[str, Any]] = None,\n",
    "        filepaths: Optional[List[str]] = None,\n",
    "        imagelab_info: Optional[Dict[str, Any]] = None,\n",
    "        **kwargs: Any,\n",
    "    ) -> None:\n",
    "        super().find_issues(**kwargs)\n",
    "        assert params is not None\n",
    "        assert imagelab_info is not None\n",
    "        assert filepaths is not None\n",
    "\n",
    "        self.update_params(params)\n",
    "\n",
    "        raw_scores = []\n",
    "        for path in tqdm(filepaths):\n",
    "            image = Image.open(path)\n",
    "            raw_scores.append(self.calculate_mean_pixel_value(image))\n",
    "\n",
    "        self.issues = pd.DataFrame(index=filepaths)\n",
    "        scores = self.get_scores(raw_scores)\n",
    "        self.issues[get_score_colname(self.issue_name)] = scores\n",
    "        self.issues[get_is_issue_colname(self.issue_name)] = self.mark_issue(\n",
    "            scores, self.params[\"threshold\"]\n",
    "        )\n",
    "        self.info[self.issue_name] = {\"PixelValue\": raw_scores}\n",
    "        summary_dict = self._compute_summary(\n",
    "            self.issues[get_is_issue_colname(self.issue_name)]\n",
    "        )\n",
    "\n",
    "        self.update_summary(summary_dict)"
   ]
  },
  {
   "cell_type": "markdown",
   "metadata": {},
   "source": [
    "### Run imagelab on custom issue"
   ]
  },
  {
   "cell_type": "code",
   "execution_count": null,
   "metadata": {
    "tags": []
   },
   "outputs": [],
   "source": [
    "imagelab = Imagelab(data_path=dataset_path)\n",
    "\n",
    "issue_name = CustomIssueManager.issue_name\n",
    "\n",
    "\n",
    "# To ensure your issue manager is registered, check list of possible issue types\n",
    "# issue_name should be present in this list\n",
    "imagelab.list_possible_issue_types()"
   ]
  },
  {
   "cell_type": "code",
   "execution_count": null,
   "metadata": {
    "tags": []
   },
   "outputs": [],
   "source": [
    "issue_types = {issue_name: {}}\n",
    "imagelab.find_issues(issue_types)\n",
    "imagelab.report()"
   ]
  }
 ],
 "metadata": {
  "kernelspec": {
   "display_name": "Python 3",
   "language": "python",
   "name": "python3"
  },
  "language_info": {
   "codemirror_mode": {
    "name": "ipython",
    "version": 3
   },
   "file_extension": ".py",
   "mimetype": "text/x-python",
   "name": "python",
   "nbconvert_exporter": "python",
   "pygments_lexer": "ipython3",
   "version": "3.8.5"
  }
 },
 "nbformat": 4,
 "nbformat_minor": 4
}

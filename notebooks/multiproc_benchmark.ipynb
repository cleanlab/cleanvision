{
 "cells": [
  {
   "cell_type": "code",
   "execution_count": null,
   "id": "a0660fd9",
   "metadata": {},
   "outputs": [],
   "source": [
    "from cleanvision.imagelab import Imagelab"
   ]
  },
  {
   "cell_type": "code",
   "execution_count": null,
   "id": "b12c28bd",
   "metadata": {},
   "outputs": [],
   "source": [
    "dataset_path = \"../../256_ObjectCategories/*/\""
   ]
  },
  {
   "cell_type": "code",
   "execution_count": null,
   "id": "97914422",
   "metadata": {},
   "outputs": [],
   "source": [
    "import psutil\n",
    "psutil.cpu_count(logical=False)"
   ]
  },
  {
   "cell_type": "code",
   "execution_count": null,
   "id": "13b45707",
   "metadata": {},
   "outputs": [],
   "source": [
    "imagelab = Imagelab(dataset_path)\n",
    "imagelab.list_default_issue_types()"
   ]
  },
  {
   "cell_type": "markdown",
   "id": "a670d2ae",
   "metadata": {},
   "source": [
    "# Single process"
   ]
  },
  {
   "cell_type": "code",
   "execution_count": null,
   "id": "bbe04a22",
   "metadata": {},
   "outputs": [],
   "source": [
    "imagelab.find_issues(n_jobs=1)"
   ]
  },
  {
   "cell_type": "code",
   "execution_count": null,
   "id": "94ecb64c",
   "metadata": {},
   "outputs": [],
   "source": [
    "imagelab.report()"
   ]
  },
  {
   "cell_type": "markdown",
   "id": "4df36164",
   "metadata": {},
   "source": [
    "# Multi process"
   ]
  },
  {
   "cell_type": "code",
   "execution_count": null,
   "id": "7b5e8b85",
   "metadata": {},
   "outputs": [],
   "source": [
    "imagelab = Imagelab(dataset_path)\n",
    "# uses 48 threads\n",
    "imagelab.find_issues()"
   ]
  },
  {
   "cell_type": "code",
   "execution_count": null,
   "id": "8cd5e3f5",
   "metadata": {},
   "outputs": [],
   "source": [
    "imagelab.report()"
   ]
  },
  {
   "cell_type": "code",
   "execution_count": null,
   "id": "0ab62b2e",
   "metadata": {},
   "outputs": [],
   "source": []
  }
 ],
 "metadata": {
  "kernelspec": {
   "display_name": "Python 3 (ipykernel)",
   "language": "python",
   "name": "python3"
  },
  "language_info": {
   "codemirror_mode": {
    "name": "ipython",
    "version": 3
   },
   "file_extension": ".py",
   "mimetype": "text/x-python",
   "name": "python",
   "nbconvert_exporter": "python",
   "pygments_lexer": "ipython3",
   "version": "3.8.13"
  },
  "latex_envs": {
   "LaTeX_envs_menu_present": true,
   "autoclose": false,
   "autocomplete": true,
   "bibliofile": "biblio.bib",
   "cite_by": "apalike",
   "current_citInitial": 1,
   "eqLabelWithNumbers": true,
   "eqNumInitial": 1,
   "hotkeys": {
    "equation": "Ctrl-E",
    "itemize": "Ctrl-I"
   },
   "labels_anchors": false,
   "latex_user_defs": false,
   "report_style_numbering": false,
   "user_envs_cfg": false
  },
  "toc": {
   "base_numbering": 1,
   "nav_menu": {},
   "number_sections": true,
   "sideBar": true,
   "skip_h1_title": false,
   "title_cell": "Table of Contents",
   "title_sidebar": "Contents",
   "toc_cell": false,
   "toc_position": {},
   "toc_section_display": true,
   "toc_window_display": false
  }
 },
 "nbformat": 4,
 "nbformat_minor": 5
}

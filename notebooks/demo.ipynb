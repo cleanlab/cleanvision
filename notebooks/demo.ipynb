{
 "cells": [
  {
   "cell_type": "code",
   "execution_count": 1,
   "metadata": {},
   "outputs": [],
   "source": [
    "from image_data_quality.image_dataset import Imagelab"
   ]
  },
  {
   "cell_type": "code",
   "execution_count": 2,
   "metadata": {},
   "outputs": [],
   "source": [
    "dataset_path = \"../image_files/\""
   ]
  },
  {
   "cell_type": "code",
   "execution_count": 3,
   "metadata": {},
   "outputs": [
    {
     "name": "stdout",
     "output_type": "stream",
     "text": [
      "Checking for Grayscale, DarkImages, Entropy, Duplicated, AspectRatio, NearDuplicates, Blurred, LightImages\n"
     ]
    },
    {
     "name": "stderr",
     "output_type": "stream",
     "text": [
      "100%|█████████████████████████████████████████████████████████████████████████████████████████████████████████████████████████████████████████████████████████████████████| 517/517 [00:05<00:00, 92.28it/s]"
     ]
    },
    {
     "name": "stdout",
     "output_type": "stream",
     "text": [
      "Color spaces in the  dataset\n",
      "========================\n",
      "{'L': 12, 'RGB': 505}\n",
      "\n",
      "Issue Summary\n",
      "========================\n",
      "                Issues  Percent of Data  Issue Intensity\n",
      "DarkImages          27             5.22         0.360000\n",
      "Grayscale           12             2.32         0.160000\n",
      "Blurred             12             2.32         0.160000\n",
      "NearDuplicates       9             1.74         0.120000\n",
      "Duplicated           7             1.35         0.093333\n",
      "LightImages          4             0.77         0.053333\n",
      "AspectRatio          3             0.58         0.040000\n",
      "Entropy              1             0.19         0.013333\n",
      "\n"
     ]
    },
    {
     "name": "stderr",
     "output_type": "stream",
     "text": [
      "\n"
     ]
    }
   ],
   "source": [
    "imagelab = Imagelab(dataset_path)\n",
    "scores = imagelab.evaluate()\n",
    "imagelab.aggregate()\n",
    "summary, results_df = imagelab.summary()"
   ]
  },
  {
   "cell_type": "code",
   "execution_count": 5,
   "metadata": {},
   "outputs": [],
   "source": [
    "# imagelab.visualize()"
   ]
  },
  {
   "cell_type": "code",
   "execution_count": null,
   "metadata": {},
   "outputs": [],
   "source": []
  }
 ],
 "metadata": {
  "kernelspec": {
   "display_name": "venv",
   "language": "python",
   "name": "venv"
  },
  "language_info": {
   "codemirror_mode": {
    "name": "ipython",
    "version": 3
   },
   "file_extension": ".py",
   "mimetype": "text/x-python",
   "name": "python",
   "nbconvert_exporter": "python",
   "pygments_lexer": "ipython3",
   "version": "3.11.0"
  }
 },
 "nbformat": 4,
 "nbformat_minor": 4
}
